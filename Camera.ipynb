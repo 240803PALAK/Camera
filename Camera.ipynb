{
 "cells": [
  {
   "cell_type": "code",
   "execution_count": null,
   "id": "43567d0b-b811-4ad8-a6d0-c62e3a21930e",
   "metadata": {},
   "outputs": [
    {
     "name": "stdout",
     "output_type": "stream",
     "text": [
      "Hello\n",
      "Hello\n",
      "Hello\n",
      "Hello\n"
     ]
    }
   ],
   "source": [
    "import tkinter as tk\n",
    "import cv2\n",
    "from tkinter import messagebox\n",
    "from PIL import Image, ImageTk\n",
    "import os\n",
    "from tkinter import PhotoImage\n",
    "\n",
    "class CameraCaptureApp:\n",
    "    def __init__(self, window, window_title):\n",
    "        self.window = window\n",
    "        self.window.title(window_title)\n",
    "\n",
    "        self.video_source = 0  # Use the default camera (change this if you have multiple cameras)\n",
    "        self.vid = cv2.VideoCapture(self.video_source)\n",
    "\n",
    "        self.canvas = tk.Canvas(window, width=self.vid.get(3), height=self.vid.get(4))\n",
    "        self.canvas.pack()\n",
    "\n",
    "        # Create a canvas for the circular button\n",
    "        canvas = tk.Canvas(root, width=100, height=100, highlightthickness=0)\n",
    "        canvas.pack()\n",
    "        \n",
    "        # Draw the circular button with a border\n",
    "        button = canvas.create_oval(10, 10, 90, 90, outline=\"black\", width=2, fill=\"lightgray\")\n",
    "        \n",
    "        # Bind the button click event\n",
    "        canvas.tag_bind(button, \"<Button-1>\", lambda event: self.capture())\n",
    "\n",
    "\n",
    "        self.photo = None\n",
    "        self.update()\n",
    "        self.window.mainloop()\n",
    "\n",
    "    def capture(self):\n",
    "        print(\"Hello\")\n",
    "        ret, frame = self.vid.read()\n",
    "        if ret:\n",
    "            cv2.imwrite(\"captured_image.png\", cv2.cvtColor(frame, cv2.COLOR_BGR2GRAY))\n",
    "            messagebox.showinfo(\"Capture\", \"Image saved as 'captured_image.png'\")\n",
    "            # Load the original image using PIL\n",
    "            original_image = Image.open(\"captured_image.png\")\n",
    "            \n",
    "            # Define the custom width and height\n",
    "            custom_width = 200\n",
    "            custom_height = 150\n",
    "            \n",
    "            # Resize the image using PIL to the custom width and height\n",
    "            resized_image = original_image.resize((custom_width, custom_height))\n",
    "            \n",
    "            # Convert the resized PIL image to a PhotoImage for Tkinter\n",
    "            photo = ImageTk.PhotoImage(resized_image)\n",
    "            \n",
    "            # Create a label to display the resized image with custom width and height\n",
    "            label = tk.Label(root, image=photo, width=custom_width, height=custom_height)\n",
    "            label.pack(pady=10,side=tk.LEFT)\n",
    "\n",
    "            # Keep a reference to the image to prevent it from being garbage collected\n",
    "            label.image = photo\n",
    "    def update(self):\n",
    "        ret, frame = self.vid.read()\n",
    "        if ret:\n",
    "            self.photo = ImageTk.PhotoImage(image=Image.fromarray(cv2.cvtColor(frame, cv2.COLOR_RGB2BGR)))\n",
    "            self.canvas.create_image(0, 0, image=self.photo, anchor=tk.NW)\n",
    "        self.window.after(10, self.update)\n",
    "\n",
    "    def __del__(self):\n",
    "        if self.vid.isOpened():\n",
    "            self.vid.release()\n",
    "\n",
    "# Create a Tkinter window\n",
    "root = tk.Tk()\n",
    "app = CameraCaptureApp(root, \"Camera Capture App\")\n"
   ]
  },
  {
   "cell_type": "code",
   "execution_count": null,
   "id": "9568325a-553b-403c-949c-37e6d9f45bb4",
   "metadata": {},
   "outputs": [],
   "source": []
  }
 ],
 "metadata": {
  "kernelspec": {
   "display_name": "Python 3 (ipykernel)",
   "language": "python",
   "name": "python3"
  },
  "language_info": {
   "codemirror_mode": {
    "name": "ipython",
    "version": 3
   },
   "file_extension": ".py",
   "mimetype": "text/x-python",
   "name": "python",
   "nbconvert_exporter": "python",
   "pygments_lexer": "ipython3",
   "version": "3.12.0"
  }
 },
 "nbformat": 4,
 "nbformat_minor": 5
}
